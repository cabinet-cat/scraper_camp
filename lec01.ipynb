{
 "cells": [
  {
   "cell_type": "code",
   "execution_count": 16,
   "metadata": {},
   "outputs": [],
   "source": [
    "import requests"
   ]
  },
  {
   "cell_type": "code",
   "execution_count": 18,
   "metadata": {
    "scrolled": true
   },
   "outputs": [
    {
     "name": "stdout",
     "output_type": "stream",
     "text": [
      "请输入要查询天气的城市，回车键退出\n",
      "168\n",
      "没有该城市天气数据\n",
      "请输入要查询天气的城市，回车键退出\n",
      "\n"
     ]
    }
   ],
   "source": [
    "while True:\n",
    "    city = input('请输入要查询天气的城市，回车键退出\\n')\n",
    "    if not city:\n",
    "        break\n",
    "    try:\n",
    "        url = 'http://wthrcdn.etouch.cn/weather_mini?city={}'.format(city)\n",
    "        req = requests.get(url)\n",
    "        city_data = req.json()\n",
    "        if city_data.get('data'):\n",
    "            city_forecast = city_data['data'].get('forecast')[0]\n",
    "            print(city_forecast.get('date'))\n",
    "            print(city_forecast.get('high'))\n",
    "            print(city_forecast.get('low'))\n",
    "            print(city_forecast.get('fengxiang'))\n",
    "            print(city_forecast.get('fengli')[-6:-3])\n",
    "            print(city_forecast.get('type'))\n",
    "    #         print(city_forecast.get('ganmao'))\n",
    "        else:\n",
    "            print('没有该城市天气数据')\n",
    "    except Exception:\n",
    "        print('查询失败')\n",
    "        raise(Exception)"
   ]
  }
 ],
 "metadata": {
  "kernelspec": {
   "display_name": "Python 3",
   "language": "python",
   "name": "python3"
  }
 },
 "nbformat": 4,
 "nbformat_minor": 2
}
